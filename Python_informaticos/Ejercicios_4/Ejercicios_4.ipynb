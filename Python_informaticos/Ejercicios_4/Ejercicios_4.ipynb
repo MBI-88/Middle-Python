{
 "cells": [
  {
   "cell_type": "code",
   "execution_count": null,
   "metadata": {},
   "outputs": [],
   "source": [
    "\"\"\"\n",
    "Created on Tue Mar 24 21:20:01 2020\n",
    "\n",
    "@author: MBI\n",
    "\n",
    "Ejercicio 5.10 Escriba un programa que lea repetidamente numeros hasta que el usuario introduzca fin\n",
    "Una vez se haya introducido fin, muestra  por pantalla el total, la cantidad de numeros y la media de esos numeros.\n",
    "Si el usuario introduce cualquier otra cosa que no sea un numero, detecta su fallo y muestra un mensaje de error y pasa \n",
    "al siguiente numero.\n",
    "\"\"\"\n",
    "\n",
    "# Main()\n",
    "def operaciones(to,can,me):\n",
    "    me=to/can\n",
    "    print('Total = {} Cantidad = {} Media = {}'.format(to,can,me))\n",
    "    \n",
    "    \n",
    "fin=True\n",
    "total=0\n",
    "cantidad=0\n",
    "media=0\n",
    "while fin :\n",
    "    numero= input('Introdusca numero: ')\n",
    "    if str.lower(numero)== 'fin':\n",
    "        fin=False\n",
    "    else:\n",
    "        try:\n",
    "            numero_int=int(numero)\n",
    "            cantidad= cantidad+1\n",
    "            total += numero_int\n",
    "        except:\n",
    "            print('Dato erroneo')\n",
    "            \n",
    "operaciones(total,cantidad,media)        "
   ]
  },
  {
   "cell_type": "code",
   "execution_count": 1,
   "metadata": {},
   "outputs": [
    {
     "name": "stdout",
     "output_type": "stream",
     "text": [
      "Introdusca numero: 4578\n",
      "Introdusca numero: 45\n",
      "Introdusca numero: 78\n",
      "Introdusca numero: 10\n",
      "Introdusca numero: fin\n",
      "Maximo = 4578 Minimo = 10\n",
      "0.0059834999999850425\n"
     ]
    }
   ],
   "source": [
    "\n",
    "\"\"\"\n",
    "Ejercicio 5.2 Escribe otro programa que pida una lista de numeros como la anterior y al final muestre  por pantalla\n",
    "el maximo y el minimo de los numeros, en vez de la media\n",
    "\n",
    "\"\"\"\n",
    "# Main()\n",
    "import timeit\n",
    "def maximominimo(lista,minimo,maximo):\n",
    "    minimo=lista[0]\n",
    "    for m in lista:\n",
    "        if minimo > m :\n",
    "            minimo=m\n",
    "        else:\n",
    "            minimo=minimo\n",
    "    for n in lista:\n",
    "        if maximo < n:\n",
    "            maximo=n\n",
    "        else:\n",
    "            maximo=maximo\n",
    "    print('Maximo = {} Minimo = {}'.format(maximo,minimo))\n",
    "    \n",
    "fin= True\n",
    "maximo=0\n",
    "lista=[]\n",
    "minimo=0\n",
    "while fin:\n",
    "     numero= input('Introdusca numero: ')\n",
    "     if str.lower(numero)== 'fin':\n",
    "        fin=False\n",
    "     else:\n",
    "         try:\n",
    "             numero_int=int(numero)\n",
    "             lista.append(numero_int)\n",
    "         except :\n",
    "             print('Dato erroneo')\n",
    "\n",
    "maximominimo(lista,minimo,maximo)\n",
    "print(timeit.timeit())"
   ]
  },
  {
   "cell_type": "code",
   "execution_count": 2,
   "metadata": {},
   "outputs": [
    {
     "name": "stdout",
     "output_type": "stream",
     "text": [
      "Introdusca numero: 45\n",
      "Introdusca numero: 12\n",
      "Introdusca numero: 65\n",
      "Introdusca numero: 78\n",
      "Introdusca numero: 100\n",
      "Introdusca numero: fin\n",
      "Maximo = 100 Minimo = 12\n",
      "0.005635100000006332\n"
     ]
    }
   ],
   "source": [
    "\"\"\"Variante mas facil\"\"\"\n",
    "# Main()\n",
    "import timeit\n",
    " \n",
    "fin=True\n",
    "lista=[]\n",
    "while fin:\n",
    "     numero = input('Introdusca numero: ')\n",
    "     if str.lower(numero)== 'fin':\n",
    "        fin=False\n",
    "     else:\n",
    "         try:\n",
    "             numero_int=int(numero)\n",
    "             lista.append(numero_int)\n",
    "         except :\n",
    "             print('Dato erroneo')\n",
    "\n",
    "print('Maximo = {} Minimo = {}'.format(max(lista),min(lista)))\n",
    "print(timeit.timeit())"
   ]
  },
  {
   "cell_type": "code",
   "execution_count": null,
   "metadata": {},
   "outputs": [],
   "source": []
  }
 ],
 "metadata": {
  "kernelspec": {
   "display_name": "Python 3",
   "language": "python",
   "name": "python3"
  },
  "language_info": {
   "codemirror_mode": {
    "name": "ipython",
    "version": 3
   },
   "file_extension": ".py",
   "mimetype": "text/x-python",
   "name": "python",
   "nbconvert_exporter": "python",
   "pygments_lexer": "ipython3",
   "version": "3.7.6"
  }
 },
 "nbformat": 4,
 "nbformat_minor": 4
}
