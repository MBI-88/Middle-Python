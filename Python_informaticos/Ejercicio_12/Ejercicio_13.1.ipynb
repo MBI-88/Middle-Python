{
 "cells": [
  {
   "cell_type": "markdown",
   "metadata": {},
   "source": [
    "Modifica el programa www.py4inf.com/code/geojson.py para imprimir en pantalla el codigo de pais de dos caracteres de los recuperados.Añade comprobacion de errores, de modo que el programa no rastree los datos si el codigo del pais no esta presente."
   ]
  },
  {
   "cell_type": "code",
   "execution_count": null,
   "metadata": {},
   "outputs": [],
   "source": [
    "# Programa geojson.py\n",
    "import urllib\n",
    "import json\n",
    "\n",
    "serviceurl = 'http://maps.googleapis.com/maps/api/geocode/json?'\n",
    "\n",
    "while True:\n",
    "    address = raw_input('Enter location: ')\n",
    "    if len(address) < 1 : break\n",
    "\n",
    "    url = serviceurl + urllib.urlencode({'sensor':'false', 'address': address})\n",
    "    print 'Retrieving', url\n",
    "    uh = urllib.urlopen(url)\n",
    "    data = uh.read()\n",
    "    print ('Retrieved',len(data),'characters')\n",
    "\n",
    "    try: js = json.loads(str(data))\n",
    "    except: js = None\n",
    "        \n",
    "    if 'status' not in js or js['status'] != 'OK'  or 'postal_code' not in js['address_components']:\n",
    "        print ('==== Failure To Retrieve ====')\n",
    "        print (data)\n",
    "        continue\n",
    "    else:\n",
    "        print(json.dumps(js, indent=4))\n",
    "        lat = js[\"results\"][0][\"geometry\"][\"location\"][\"lat\"]\n",
    "        lng = js[\"results\"][0][\"geometry\"][\"location\"][\"lng\"]\n",
    "        code_pay= js['results'][0]['address_components']['postal_code']\n",
    "        print ('lat',lat,'lng',lng,'postal_code',code_pay)\n",
    "        location = js['results'][0]['formatted_address']\n",
    "        print (location)\n",
    "#Nota: Debe probarse el programa en internet"
   ]
  },
  {
   "cell_type": "code",
   "execution_count": null,
   "metadata": {},
   "outputs": [],
   "source": []
  }
 ],
 "metadata": {
  "kernelspec": {
   "display_name": "Python 3",
   "language": "python",
   "name": "python3"
  },
  "language_info": {
   "codemirror_mode": {
    "name": "ipython",
    "version": 3
   },
   "file_extension": ".py",
   "mimetype": "text/x-python",
   "name": "python",
   "nbconvert_exporter": "python",
   "pygments_lexer": "ipython3",
   "version": "3.7.6"
  }
 },
 "nbformat": 4,
 "nbformat_minor": 4
}
