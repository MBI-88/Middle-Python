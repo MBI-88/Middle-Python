{
 "cells": [
  {
   "cell_type": "code",
   "execution_count": null,
   "metadata": {},
   "outputs": [],
   "source": [
    "\"\"\"\n",
    "Created on Mon Mar 23 21:15:59 2020\n",
    "\n",
    "@author: MBI\n",
    "\n",
    "Ejercicio 4.6 Reescribir el programa de  calculo de salario, con tarifa y media para horas\n",
    "extras y cra una funcion llamada calculo_salario que reciba 2 parametros (Hora y Tarifo)\n",
    "\"\"\"\n",
    "\n",
    "# Main()\n",
    "def calculo_salario(horas,tarifa):\n",
    "    horas=float(horas)\n",
    "    tarifa=float(tarifa)\n",
    "    if horas > 40:\n",
    "        salario= 40*tarifa +(horas-40)*(1.5*tarifa)\n",
    "        print('Horas = {} Tarifa = {} Salario = {}'.format(horas,tarifa,salario))\n",
    "    else:\n",
    "        salario= horas*tarifa\n",
    "        print('Horas = {} Tarifa = {} Salario = {}'.format(horas,tarifa,salario))\n",
    "try:\n",
    "    pedido= input('Ponga las horas seguido un epaacio y la tarifa por hora: ')\n",
    "    p=pedido.find(' ')\n",
    "    hora=pedido[:p]\n",
    "    tarifa=pedido[p+1:]\n",
    "    calculo_salario(hora,tarifa)\n",
    "except :\n",
    "    print('Introdusca solo numeros')"
   ]
  },
  {
   "cell_type": "code",
   "execution_count": null,
   "metadata": {},
   "outputs": [],
   "source": [
    "# Main()\n",
    "def calcula_calificacion(nota):\n",
    "    if nota >= 0.0 and nota <= 1:\n",
    "        if nota > 0.9:\n",
    "            print('Sobresaliente')\n",
    "        elif nota > 0.8 :\n",
    "            print('Notable')\n",
    "        elif nota > 0.7 :\n",
    "            print('Bien')\n",
    "        elif nota > 0.6 :\n",
    "            print('Suficinete')\n",
    "        elif nota <= 0.6 :\n",
    "            print('Insuficiente')\n",
    "try:\n",
    "    calificacion= float(input('Ponga la nota :'))\n",
    "    calcula_calificacion(calificacion)\n",
    "except :\n",
    "    print('Introdusca solo numeros')"
   ]
  }
 ],
 "metadata": {
  "kernelspec": {
   "display_name": "Python 3",
   "language": "python",
   "name": "python3"
  },
  "language_info": {
   "codemirror_mode": {
    "name": "ipython",
    "version": 3
   },
   "file_extension": ".py",
   "mimetype": "text/x-python",
   "name": "python",
   "nbconvert_exporter": "python",
   "pygments_lexer": "ipython3",
   "version": "3.7.6"
  }
 },
 "nbformat": 4,
 "nbformat_minor": 4
}
