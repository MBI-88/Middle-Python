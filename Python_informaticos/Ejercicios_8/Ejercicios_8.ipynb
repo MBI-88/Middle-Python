{
 "cells": [
  {
   "cell_type": "code",
   "execution_count": null,
   "metadata": {},
   "outputs": [],
   "source": [
    "\"\"\"\n",
    "Created on Wed Apr  1 14:48:39 2020\n",
    "\n",
    "@author: MBI\n",
    "Ejercicio 9.1 Escribe un programa que lea las palabras  de word.txt y las almacene como\n",
    "claves en un diccionario. No importa que valor tenga. Despues puedes usar el operador in\n",
    "como un modo rapido de comprobar si una cadena esta en el diccionario.\n",
    "\"\"\"\n",
    "#%%\n",
    "# Main()\n",
    "word= 'C:/Users/MBI/Documents/Spider_Scripts/Ejercicios_del_Curso_Python _para_Informaticos/Ejercicios_8/words.txt'\n",
    "diccionario={}\n",
    "try:\n",
    "    \n",
    "    with open(word,'r') as fname:\n",
    "        for linea in fname:\n",
    "             new_line=linea.split()\n",
    "             for x in new_line:\n",
    "                diccionario[x] +=1\n",
    "                \n",
    "        fname.close()\n",
    "except :\n",
    "    print('Error de archivo')\n",
    "       \n",
    "valor=input('Ponga clave a buscar: ')\n",
    "\n",
    "if  valor in diccionario:\n",
    "    print('El valor esta en el diccionario')\n",
    "else:\n",
    "    print('El valor no esta en el diccionario')"
   ]
  },
  {
   "cell_type": "code",
   "execution_count": null,
   "metadata": {},
   "outputs": [],
   "source": [
    "\"\"\"Ejercicio 9.2 Escribe un programa que ordene  en categorias cada mensaje de correo segun el dia de  la semana\n",
    "en que fue hecho  el envio.\"\"\"\n",
    "# Main()\n",
    "mbox=input('Introdusca el nombre del archivo a abrir: ')\n",
    "mbox_dic={}\n",
    "try:\n",
    "    with  open(mbox,'r') as fname:\n",
    "        for linea in fname:\n",
    "            lineas=linea.split()\n",
    "            if len(lineas)==0 or lineas[0]!='From' or len(lineas)<2:\n",
    "                continue\n",
    "            else:\n",
    "                mbox_dic[lineas[2]]=mbox_dic.get(lineas[2],0)+1\n",
    "        fname.close()             \n",
    "except :\n",
    "       print('Error de archivo')\n",
    "print(mbox_dic)"
   ]
  },
  {
   "cell_type": "code",
   "execution_count": null,
   "metadata": {},
   "outputs": [],
   "source": [
    "\"\"\"Ejercicio 9.3 Escribe un programa similar al anterior pero que diga de que direccion de correo electronico ha sido \n",
    "enviado\"\"\"\n",
    "# Main()\n",
    "mbox=input('Introdusca el nombre del archivo a abrir: ')\n",
    "mbox_dic={}\n",
    "try:\n",
    "    with  open(mbox,'r') as fname:\n",
    "        for linea in fname:\n",
    "            lineas=linea.split()\n",
    "            if len(lineas)==0 or lineas[0]!='From' or len(lineas)<1:\n",
    "                continue\n",
    "            else:\n",
    "                mbox_dic[lineas[1]]=mbox_dic.get(lineas[1],0)+1\n",
    "        fname.close()             \n",
    "except :\n",
    "       print('Error de archivo')\n",
    "print(mbox_dic)"
   ]
  },
  {
   "cell_type": "code",
   "execution_count": null,
   "metadata": {},
   "outputs": [],
   "source": [
    "\"\"\"Ejercicio 9.4 Añade codigo al programa anterior para localizar quien tiene mas mensajes en el fichero\"\"\"\n",
    "# Main()\n",
    "mbox=input('Introdusca el nombre del archivo a abrir: ')\n",
    "mbox_dic={}\n",
    "try:\n",
    "    with  open(mbox,'r') as fname:\n",
    "        for linea in fname:\n",
    "            lineas=linea.split()\n",
    "            if len(lineas)==0 or lineas[0]!='From' or len(lineas)<1:\n",
    "                continue\n",
    "            else:\n",
    "                mbox_dic[lineas[1]]=mbox_dic.get(lineas[1],0)+1\n",
    "        fname.close()             \n",
    "except :\n",
    "       print('Error de archivo')\n",
    "\n",
    "maximo= max(mbox_dic)\n",
    "print('El maximo es : el destinatario {} tiene un total de {} mensajes'.format(maximo,mbox_dic[maximo]))"
   ]
  },
  {
   "cell_type": "code",
   "execution_count": null,
   "metadata": {},
   "outputs": [],
   "source": [
    "\n",
    "\"\"\"Ejercicio 9.5 Este programa debe guardar el nombre de dominio desde donde se envio el mensaje en vez de \n",
    "quien mando el mensaje\"\"\"\n",
    "# Main()\n",
    "\n",
    "mbox=input('Introdusca el nombre del archivo a abrir: ')\n",
    "mbox_dic={}\n",
    "try:\n",
    "    with  open(mbox,'r') as fname:\n",
    "            for linea in fname:\n",
    "                lineas=linea.split()\n",
    "                if len(lineas)==0 or lineas[0]!='From' or len(lineas)<1:\n",
    "                    continue\n",
    "                else:\n",
    "                    inicio=lineas[1].find('@')\n",
    "                    dominino=lineas[1]\n",
    "                    mbox_dic[dominino[inicio+1:]]=mbox_dic.get(dominino[inicio+1:],0)+1\n",
    "            fname.close()             \n",
    "except :\n",
    "      print('Error de archivo')\n",
    "    \n",
    "print(mbox_dic)"
   ]
  }
 ],
 "metadata": {
  "kernelspec": {
   "display_name": "Python 3",
   "language": "python",
   "name": "python3"
  },
  "language_info": {
   "codemirror_mode": {
    "name": "ipython",
    "version": 3
   },
   "file_extension": ".py",
   "mimetype": "text/x-python",
   "name": "python",
   "nbconvert_exporter": "python",
   "pygments_lexer": "ipython3",
   "version": "3.7.6"
  }
 },
 "nbformat": 4,
 "nbformat_minor": 4
}
