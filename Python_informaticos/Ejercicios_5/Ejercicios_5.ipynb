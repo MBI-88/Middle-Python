{
 "cells": [
  {
   "cell_type": "code",
   "execution_count": 1,
   "metadata": {},
   "outputs": [
    {
     "name": "stdout",
     "output_type": "stream",
     "text": [
      "Cadena extraida y formateada :  8475\n"
     ]
    }
   ],
   "source": [
    "\"\"\"\n",
    "Created on Thu Mar 26 14:54:48 2020\n",
    "\n",
    "@author: MBI\n",
    "\n",
    "Ejecicio 6.5 Toma el codigo en Python siguiente, que almacena una cadena  y encuentra la cadena \n",
    "despues del operador punto y luego utiliza float para convertirla en un numero de punto flotante.\n",
    "\"\"\"\n",
    "\n",
    "# Main()\n",
    "\n",
    "cad='X-DSPAM-Confidence: 0.8475'\n",
    "pos=cad.find('.')\n",
    "new_cad=cad[pos+1:]\n",
    "numero_float=float(new_cad)\n",
    "print('Cadena extraida y formateada :  %g'  % numero_float)"
   ]
  },
  {
   "cell_type": "code",
   "execution_count": null,
   "metadata": {},
   "outputs": [],
   "source": []
  }
 ],
 "metadata": {
  "kernelspec": {
   "display_name": "Python 3",
   "language": "python",
   "name": "python3"
  },
  "language_info": {
   "codemirror_mode": {
    "name": "ipython",
    "version": 3
   },
   "file_extension": ".py",
   "mimetype": "text/x-python",
   "name": "python",
   "nbconvert_exporter": "python",
   "pygments_lexer": "ipython3",
   "version": "3.7.6"
  }
 },
 "nbformat": 4,
 "nbformat_minor": 4
}
