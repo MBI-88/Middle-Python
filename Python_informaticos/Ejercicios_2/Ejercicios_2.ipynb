{
 "cells": [
  {
   "cell_type": "code",
   "execution_count": null,
   "metadata": {},
   "outputs": [],
   "source": [
    "\"\"\"\n",
    "Created on Sat Mar 21 20:57:15 2020\n",
    "\n",
    "@author: MBI\n",
    "\n",
    "Ejercicio 3.1 Reescribir el programa de clalculo  del salario para darle al empleado\n",
    "1.5 veces la tarifa horaria para todas las horas trabajadas que excedan de 40\n",
    "\"\"\"\n",
    "# Main()\n",
    "pedido = input('Introdusca su horas y tarifa separados por un espacio: ')\n",
    "horas=0\n",
    "tarifa=0\n",
    "po=pedido.find(' ')\n",
    "horas = pedido[:po]\n",
    "tarifa = pedido[po+1:]\n",
    "salario=0\n",
    "if float(horas) > 40:\n",
    "    horas_ex= float(horas)-40\n",
    "    salario= 40*float(tarifa)+horas_ex*(1.5*float(tarifa))\n",
    "else:\n",
    "    salario=float(horas)*float(tarifa)\n",
    "\n",
    "print('Horas = {} Tarifa = {} Salario = {}'.format(horas,tarifa,salario))"
   ]
  },
  {
   "cell_type": "code",
   "execution_count": null,
   "metadata": {},
   "outputs": [],
   "source": [
    "\"\"\"\n",
    "Ejercicio 3.2 Rescribir el programa anterior usando  try  y except\n",
    "\"\"\"\n",
    "# Main()\n",
    "print('Introdusca horas y tarifas a continuacion: ')\n",
    "try:\n",
    "    horas=float(input())\n",
    "    tarifa=float(input())\n",
    "    \n",
    "    if float(horas) > 40:\n",
    "        horas_ex= float(horas)-40\n",
    "        salario= 40*float(tarifa)+horas_ex*(1.5*float(tarifa))\n",
    "    else:\n",
    "        salario=float(horas)*float(tarifa)\n",
    "\n",
    "    print('Horas = {} Tarifa = {} Salario = {}'.format(horas,tarifa,salario))\n",
    "except :\n",
    "        print('Ponga solo numeros')\n",
    "        "
   ]
  },
  {
   "cell_type": "code",
   "execution_count": null,
   "metadata": {},
   "outputs": [],
   "source": [
    "\"\"\"\n",
    "Ejercicio 3.3 Escribe un programa que solicite una puntuacion entre 0.0 y 1.0 . Si la puntuacion\n",
    "esta fuera de ese rango, muestra un mensaje de error.Si la puntuacion esta entre 0.0 y 1.0 muestra la calificacion\n",
    "usando la tabla siguiente\n",
    "\"\"\"  \n",
    "# Main()\n",
    "\n",
    "for i in range(0,4):\n",
    "    try:\n",
    "        puntuacion= float(input('Introdusca un a puntuacio entre 0.0 y 1.0: '))\n",
    "        if puntuacion >= 0.0 and puntuacion <=1: \n",
    "            if puntuacion >= 0.9 :\n",
    "                print('Sobresaliente')\n",
    "            elif puntuacion >= 0.8 :\n",
    "                print('Notable')\n",
    "            elif puntuacion >= 0.7 :\n",
    "                print('Bien')\n",
    "            elif puntuacion >= 0.6 :\n",
    "                print('Suficiente')\n",
    "            elif puntuacion < 0.6 :\n",
    "                print('Insuficiente')\n",
    "        else:\n",
    "           print('Valor fuera de rango')\n",
    "    except :\n",
    "            print('Puntuacion incorrecta')"
   ]
  }
 ],
 "metadata": {
  "kernelspec": {
   "display_name": "Python 3",
   "language": "python",
   "name": "python3"
  },
  "language_info": {
   "codemirror_mode": {
    "name": "ipython",
    "version": 3
   },
   "file_extension": ".py",
   "mimetype": "text/x-python",
   "name": "python",
   "nbconvert_exporter": "python",
   "pygments_lexer": "ipython3",
   "version": "3.7.6"
  }
 },
 "nbformat": 4,
 "nbformat_minor": 4
}
