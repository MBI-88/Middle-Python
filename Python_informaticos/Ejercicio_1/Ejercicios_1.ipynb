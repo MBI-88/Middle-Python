{
 "cells": [
  {
   "cell_type": "code",
   "execution_count": 1,
   "metadata": {},
   "outputs": [
    {
     "name": "stdout",
     "output_type": "stream",
     "text": [
      "Introdusca las horas, seguidas de un , la tarifa:10,1.25\n",
      "Horas = 10 Tarifa= 1.25 Salario = 12.5\n"
     ]
    }
   ],
   "source": [
    "\"\"\"\n",
    "\n",
    "\n",
    "Ejercicio 2.3 . Escribir un programa para pedirle al ususrio\n",
    "el numero de horasy la tarifa por hora para calcular el salario\n",
    "bruto\n",
    "\"\"\"\n",
    "\n",
    "pedido= input('Introdusca las horas, seguidas de un , la tarifa:' )\n",
    "hora=0\n",
    "tarifa=0\n",
    "coma=','\n",
    "pos=pedido.find(coma)\n",
    "hora=pedido[:pos]\n",
    "tarifa=pedido[pos+1:]\n",
    "salario_bruto=float(hora)*float(tarifa)\n",
    "print('Horas = {} Tarifa= {} Salario = {}'.format(hora,tarifa,salario_bruto))"
   ]
  },
  {
   "cell_type": "code",
   "execution_count": 2,
   "metadata": {},
   "outputs": [
    {
     "name": "stdout",
     "output_type": "stream",
     "text": [
      "8.5   <class 'float'>\n",
      "8.5    <class 'float'>\n",
      "4.0    <class 'float'>\n",
      "11    <class 'int'>\n"
     ]
    }
   ],
   "source": [
    "\"\"\"Ejercicio 2.4  Asume que se ejecutamos las siguientes sentencias de asignacion\n",
    "escribe el valor de la expresion y su tipo\n",
    "\"\"\"\n",
    "ancho= 17\n",
    "alto= 12.0\n",
    "\n",
    "print(ancho/2 ,\" \" ,type(ancho/2))\n",
    "\n",
    "print(ancho/2.0 ,'  ' , type(ancho/2.0))\n",
    "\n",
    "print(alto/3 ,'  ' ,type(alto/3))\n",
    "\n",
    "print(1+2*5 ,'  ' ,type(1+2*5))"
   ]
  },
  {
   "cell_type": "code",
   "execution_count": 3,
   "metadata": {},
   "outputs": [
    {
     "name": "stdout",
     "output_type": "stream",
     "text": [
      "Introdusca una temperatura en grados Celsius:25\n",
      "Celsius -> Fahreneheit= 77.0\n"
     ]
    }
   ],
   "source": [
    "\"\"\"\n",
    "Ejercicio 2.5 Escribe un programa que convierta una temperatura en grados Celsius a grados Fahrenheit\n",
    "\n",
    "\"\"\"\n",
    "temperatura = float(input('Introdusca una temperatura en grados Celsius:'))\n",
    "tempeconvertida= (temperatura*1.8)+32\n",
    "print('Celsius -> Fahreneheit= {}'.format(tempeconvertida))"
   ]
  },
  {
   "cell_type": "code",
   "execution_count": null,
   "metadata": {},
   "outputs": [],
   "source": []
  }
 ],
 "metadata": {
  "kernelspec": {
   "display_name": "Python 3",
   "language": "python",
   "name": "python3"
  },
  "language_info": {
   "codemirror_mode": {
    "name": "ipython",
    "version": 3
   },
   "file_extension": ".py",
   "mimetype": "text/x-python",
   "name": "python",
   "nbconvert_exporter": "python",
   "pygments_lexer": "ipython3",
   "version": "3.7.6"
  }
 },
 "nbformat": 4,
 "nbformat_minor": 4
}
