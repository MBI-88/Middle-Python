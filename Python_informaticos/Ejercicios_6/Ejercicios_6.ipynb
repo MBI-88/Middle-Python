{
 "cells": [
  {
   "cell_type": "code",
   "execution_count": null,
   "metadata": {},
   "outputs": [],
   "source": [
    "\"\"\"\n",
    "Ejercicio 7.1  Escribe un programa que lea un fichero e imprima en pantalla su \n",
    "contenido linea a linea, todo en mayusculas.\n",
    "\"\"\"\n",
    "# Main()\n",
    "nombre=input('Nombre de archivo  a abrir: ')\n",
    "try:\n",
    "    with open(nombre,'r') as fname:\n",
    "        for linea in fname:\n",
    "            print(linea.upper().rstrip())\n",
    "        fname.close()\n",
    "except :\n",
    "    print('Error  en la apertura')"
   ]
  },
  {
   "cell_type": "code",
   "execution_count": null,
   "metadata": {},
   "outputs": [],
   "source": [
    "\"\"\"\n",
    "Ejercicio 7.2 Escribe un programa que pida el nombre de un fichero y despues lea ese fichero, buscando lineas que tengan la forma \n",
    "X-DSPAM-Confidence: 0.8475.\n",
    "Cuando se encuentre una linea separa esa linea para extraer el numero flotante que figure en ella, cuenta esas lineas y calcula el valor medio\n",
    "de la probabilidad de spam\n",
    "\"\"\"\n",
    "# Main()\n",
    "\n",
    "archivo=input('Introdusca nombre de archivo:')\n",
    "contador=0\n",
    "total=0\n",
    "try:\n",
    "   with open(archivo,'r') as fname:\n",
    "        for linea in fname:\n",
    "            if linea.startswith('X-DSPAM-Confidence:'):\n",
    "                new_linea=linea.rstrip()\n",
    "                inicio=new_linea.find(' ')\n",
    "                final=new_linea.find('\\n')\n",
    "                valor = float(linea[inicio+1:final])\n",
    "                total += valor\n",
    "                contador = contador + 1\n",
    "\n",
    "            else:\n",
    "                continue\n",
    "        fname.close()\n",
    "except :\n",
    "    print('Error de archivo')\n",
    "valor_medio=total/contador\n",
    "print('Valor meido de probabilidad de spam : {}'.format(valor_medio))"
   ]
  },
  {
   "cell_type": "code",
   "execution_count": 1,
   "metadata": {},
   "outputs": [
    {
     "name": "stdout",
     "output_type": "stream",
     "text": [
      "Introdusca nombre de archivo:na na boo boo.txt\n",
      " . Te he pillado Felicidades Na Na Boo Boo Resive tu nuevo IPhon 11\n"
     ]
    }
   ],
   "source": [
    "\"\"\"Ejercicio 7.3 Modifica el programa anterior para cunado el usuario  \n",
    "  ponga el nombre exactona na boo boo imprima por pantalla un mensaje \n",
    "  divertido.\"\"\"\n",
    "# Main()\n",
    "archivo=input('Introdusca nombre de archivo:')\n",
    "mensaje=''\n",
    "try:\n",
    "   with open(archivo,'r') as fname:\n",
    "        if archivo == 'na na boo boo.txt':\n",
    "            for linea in fname:\n",
    "                if linea.find('-') != -1:\n",
    "                    pos= linea.find('-')\n",
    "                    mensaje=linea[pos+1:]\n",
    "                    print(mensaje+'Felicidades Na Na Boo Boo'+' '+'Resive tu nuevo IPhon 11')\n",
    "                else:\n",
    "                    continue\n",
    "        else:\n",
    "            for linea in fname:\n",
    "                print(linea.rstrip())\n",
    "                \n",
    "        fname.close()\n",
    "except :\n",
    "    print('Error de archivo')"
   ]
  },
  {
   "cell_type": "code",
   "execution_count": null,
   "metadata": {},
   "outputs": [],
   "source": []
  }
 ],
 "metadata": {
  "kernelspec": {
   "display_name": "Python 3",
   "language": "python",
   "name": "python3"
  },
  "language_info": {
   "codemirror_mode": {
    "name": "ipython",
    "version": 3
   },
   "file_extension": ".py",
   "mimetype": "text/x-python",
   "name": "python",
   "nbconvert_exporter": "python",
   "pygments_lexer": "ipython3",
   "version": "3.7.6"
  }
 },
 "nbformat": 4,
 "nbformat_minor": 4
}
